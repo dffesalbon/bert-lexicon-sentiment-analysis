{
  "nbformat": 4,
  "nbformat_minor": 0,
  "metadata": {
    "colab": {
      "provenance": [],
      "authorship_tag": "ABX9TyPNCa2MlByXVQgThH9vkafD"
    },
    "kernelspec": {
      "name": "python3",
      "display_name": "Python 3"
    },
    "language_info": {
      "name": "python"
    },
    "widgets": {
      "application/vnd.jupyter.widget-state+json": {
        "297e1758239a45678e5fade0657951c4": {
          "model_module": "@jupyter-widgets/controls",
          "model_name": "HBoxModel",
          "model_module_version": "1.5.0",
          "state": {
            "_dom_classes": [],
            "_model_module": "@jupyter-widgets/controls",
            "_model_module_version": "1.5.0",
            "_model_name": "HBoxModel",
            "_view_count": null,
            "_view_module": "@jupyter-widgets/controls",
            "_view_module_version": "1.5.0",
            "_view_name": "HBoxView",
            "box_style": "",
            "children": [
              "IPY_MODEL_2acbcd2feedf4187ad4abe7f842acc8b",
              "IPY_MODEL_8e40ccd601104fd6a7e2fb7a8237bb5b",
              "IPY_MODEL_3503dc1406274b01965d25f406491665"
            ],
            "layout": "IPY_MODEL_51df851d17db49879a8b68e8ae1d98d5"
          }
        },
        "2acbcd2feedf4187ad4abe7f842acc8b": {
          "model_module": "@jupyter-widgets/controls",
          "model_name": "HTMLModel",
          "model_module_version": "1.5.0",
          "state": {
            "_dom_classes": [],
            "_model_module": "@jupyter-widgets/controls",
            "_model_module_version": "1.5.0",
            "_model_name": "HTMLModel",
            "_view_count": null,
            "_view_module": "@jupyter-widgets/controls",
            "_view_module_version": "1.5.0",
            "_view_name": "HTMLView",
            "description": "",
            "description_tooltip": null,
            "layout": "IPY_MODEL_f2e6e215b9504ea8980fe9ce3095be1f",
            "placeholder": "​",
            "style": "IPY_MODEL_1743ad093aa347e7ab052c52bebb0193",
            "value": "100%"
          }
        },
        "8e40ccd601104fd6a7e2fb7a8237bb5b": {
          "model_module": "@jupyter-widgets/controls",
          "model_name": "FloatProgressModel",
          "model_module_version": "1.5.0",
          "state": {
            "_dom_classes": [],
            "_model_module": "@jupyter-widgets/controls",
            "_model_module_version": "1.5.0",
            "_model_name": "FloatProgressModel",
            "_view_count": null,
            "_view_module": "@jupyter-widgets/controls",
            "_view_module_version": "1.5.0",
            "_view_name": "ProgressView",
            "bar_style": "success",
            "description": "",
            "description_tooltip": null,
            "layout": "IPY_MODEL_52feeb3373ea40fa9ed1dfd313c0c391",
            "max": 69,
            "min": 0,
            "orientation": "horizontal",
            "style": "IPY_MODEL_fb915e7f649f4ac2808f2757db86b3b8",
            "value": 69
          }
        },
        "3503dc1406274b01965d25f406491665": {
          "model_module": "@jupyter-widgets/controls",
          "model_name": "HTMLModel",
          "model_module_version": "1.5.0",
          "state": {
            "_dom_classes": [],
            "_model_module": "@jupyter-widgets/controls",
            "_model_module_version": "1.5.0",
            "_model_name": "HTMLModel",
            "_view_count": null,
            "_view_module": "@jupyter-widgets/controls",
            "_view_module_version": "1.5.0",
            "_view_name": "HTMLView",
            "description": "",
            "description_tooltip": null,
            "layout": "IPY_MODEL_dc58597530864a68afdaca9713fcc485",
            "placeholder": "​",
            "style": "IPY_MODEL_58ac9b9edd29436e91e3c66e6efce410",
            "value": " 69/69 [00:00&lt;00:00, 147.46ba/s]"
          }
        },
        "51df851d17db49879a8b68e8ae1d98d5": {
          "model_module": "@jupyter-widgets/base",
          "model_name": "LayoutModel",
          "model_module_version": "1.2.0",
          "state": {
            "_model_module": "@jupyter-widgets/base",
            "_model_module_version": "1.2.0",
            "_model_name": "LayoutModel",
            "_view_count": null,
            "_view_module": "@jupyter-widgets/base",
            "_view_module_version": "1.2.0",
            "_view_name": "LayoutView",
            "align_content": null,
            "align_items": null,
            "align_self": null,
            "border": null,
            "bottom": null,
            "display": null,
            "flex": null,
            "flex_flow": null,
            "grid_area": null,
            "grid_auto_columns": null,
            "grid_auto_flow": null,
            "grid_auto_rows": null,
            "grid_column": null,
            "grid_gap": null,
            "grid_row": null,
            "grid_template_areas": null,
            "grid_template_columns": null,
            "grid_template_rows": null,
            "height": null,
            "justify_content": null,
            "justify_items": null,
            "left": null,
            "margin": null,
            "max_height": null,
            "max_width": null,
            "min_height": null,
            "min_width": null,
            "object_fit": null,
            "object_position": null,
            "order": null,
            "overflow": null,
            "overflow_x": null,
            "overflow_y": null,
            "padding": null,
            "right": null,
            "top": null,
            "visibility": null,
            "width": null
          }
        },
        "f2e6e215b9504ea8980fe9ce3095be1f": {
          "model_module": "@jupyter-widgets/base",
          "model_name": "LayoutModel",
          "model_module_version": "1.2.0",
          "state": {
            "_model_module": "@jupyter-widgets/base",
            "_model_module_version": "1.2.0",
            "_model_name": "LayoutModel",
            "_view_count": null,
            "_view_module": "@jupyter-widgets/base",
            "_view_module_version": "1.2.0",
            "_view_name": "LayoutView",
            "align_content": null,
            "align_items": null,
            "align_self": null,
            "border": null,
            "bottom": null,
            "display": null,
            "flex": null,
            "flex_flow": null,
            "grid_area": null,
            "grid_auto_columns": null,
            "grid_auto_flow": null,
            "grid_auto_rows": null,
            "grid_column": null,
            "grid_gap": null,
            "grid_row": null,
            "grid_template_areas": null,
            "grid_template_columns": null,
            "grid_template_rows": null,
            "height": null,
            "justify_content": null,
            "justify_items": null,
            "left": null,
            "margin": null,
            "max_height": null,
            "max_width": null,
            "min_height": null,
            "min_width": null,
            "object_fit": null,
            "object_position": null,
            "order": null,
            "overflow": null,
            "overflow_x": null,
            "overflow_y": null,
            "padding": null,
            "right": null,
            "top": null,
            "visibility": null,
            "width": null
          }
        },
        "1743ad093aa347e7ab052c52bebb0193": {
          "model_module": "@jupyter-widgets/controls",
          "model_name": "DescriptionStyleModel",
          "model_module_version": "1.5.0",
          "state": {
            "_model_module": "@jupyter-widgets/controls",
            "_model_module_version": "1.5.0",
            "_model_name": "DescriptionStyleModel",
            "_view_count": null,
            "_view_module": "@jupyter-widgets/base",
            "_view_module_version": "1.2.0",
            "_view_name": "StyleView",
            "description_width": ""
          }
        },
        "52feeb3373ea40fa9ed1dfd313c0c391": {
          "model_module": "@jupyter-widgets/base",
          "model_name": "LayoutModel",
          "model_module_version": "1.2.0",
          "state": {
            "_model_module": "@jupyter-widgets/base",
            "_model_module_version": "1.2.0",
            "_model_name": "LayoutModel",
            "_view_count": null,
            "_view_module": "@jupyter-widgets/base",
            "_view_module_version": "1.2.0",
            "_view_name": "LayoutView",
            "align_content": null,
            "align_items": null,
            "align_self": null,
            "border": null,
            "bottom": null,
            "display": null,
            "flex": null,
            "flex_flow": null,
            "grid_area": null,
            "grid_auto_columns": null,
            "grid_auto_flow": null,
            "grid_auto_rows": null,
            "grid_column": null,
            "grid_gap": null,
            "grid_row": null,
            "grid_template_areas": null,
            "grid_template_columns": null,
            "grid_template_rows": null,
            "height": null,
            "justify_content": null,
            "justify_items": null,
            "left": null,
            "margin": null,
            "max_height": null,
            "max_width": null,
            "min_height": null,
            "min_width": null,
            "object_fit": null,
            "object_position": null,
            "order": null,
            "overflow": null,
            "overflow_x": null,
            "overflow_y": null,
            "padding": null,
            "right": null,
            "top": null,
            "visibility": null,
            "width": null
          }
        },
        "fb915e7f649f4ac2808f2757db86b3b8": {
          "model_module": "@jupyter-widgets/controls",
          "model_name": "ProgressStyleModel",
          "model_module_version": "1.5.0",
          "state": {
            "_model_module": "@jupyter-widgets/controls",
            "_model_module_version": "1.5.0",
            "_model_name": "ProgressStyleModel",
            "_view_count": null,
            "_view_module": "@jupyter-widgets/base",
            "_view_module_version": "1.2.0",
            "_view_name": "StyleView",
            "bar_color": null,
            "description_width": ""
          }
        },
        "dc58597530864a68afdaca9713fcc485": {
          "model_module": "@jupyter-widgets/base",
          "model_name": "LayoutModel",
          "model_module_version": "1.2.0",
          "state": {
            "_model_module": "@jupyter-widgets/base",
            "_model_module_version": "1.2.0",
            "_model_name": "LayoutModel",
            "_view_count": null,
            "_view_module": "@jupyter-widgets/base",
            "_view_module_version": "1.2.0",
            "_view_name": "LayoutView",
            "align_content": null,
            "align_items": null,
            "align_self": null,
            "border": null,
            "bottom": null,
            "display": null,
            "flex": null,
            "flex_flow": null,
            "grid_area": null,
            "grid_auto_columns": null,
            "grid_auto_flow": null,
            "grid_auto_rows": null,
            "grid_column": null,
            "grid_gap": null,
            "grid_row": null,
            "grid_template_areas": null,
            "grid_template_columns": null,
            "grid_template_rows": null,
            "height": null,
            "justify_content": null,
            "justify_items": null,
            "left": null,
            "margin": null,
            "max_height": null,
            "max_width": null,
            "min_height": null,
            "min_width": null,
            "object_fit": null,
            "object_position": null,
            "order": null,
            "overflow": null,
            "overflow_x": null,
            "overflow_y": null,
            "padding": null,
            "right": null,
            "top": null,
            "visibility": null,
            "width": null
          }
        },
        "58ac9b9edd29436e91e3c66e6efce410": {
          "model_module": "@jupyter-widgets/controls",
          "model_name": "DescriptionStyleModel",
          "model_module_version": "1.5.0",
          "state": {
            "_model_module": "@jupyter-widgets/controls",
            "_model_module_version": "1.5.0",
            "_model_name": "DescriptionStyleModel",
            "_view_count": null,
            "_view_module": "@jupyter-widgets/base",
            "_view_module_version": "1.2.0",
            "_view_name": "StyleView",
            "description_width": ""
          }
        },
        "99b8d0992d4e42009e5dc16e03e69b6a": {
          "model_module": "@jupyter-widgets/controls",
          "model_name": "HBoxModel",
          "model_module_version": "1.5.0",
          "state": {
            "_dom_classes": [],
            "_model_module": "@jupyter-widgets/controls",
            "_model_module_version": "1.5.0",
            "_model_name": "HBoxModel",
            "_view_count": null,
            "_view_module": "@jupyter-widgets/controls",
            "_view_module_version": "1.5.0",
            "_view_name": "HBoxView",
            "box_style": "",
            "children": [
              "IPY_MODEL_758982f7cf9a4a84bc8bfe23033f3e0a",
              "IPY_MODEL_9738f5a8da5e4cb095ba8843eeab3409",
              "IPY_MODEL_10861edea96a4348acf814921752f951"
            ],
            "layout": "IPY_MODEL_57d1df74dbf043209fa8fbdbaecfb936"
          }
        },
        "758982f7cf9a4a84bc8bfe23033f3e0a": {
          "model_module": "@jupyter-widgets/controls",
          "model_name": "HTMLModel",
          "model_module_version": "1.5.0",
          "state": {
            "_dom_classes": [],
            "_model_module": "@jupyter-widgets/controls",
            "_model_module_version": "1.5.0",
            "_model_name": "HTMLModel",
            "_view_count": null,
            "_view_module": "@jupyter-widgets/controls",
            "_view_module_version": "1.5.0",
            "_view_name": "HTMLView",
            "description": "",
            "description_tooltip": null,
            "layout": "IPY_MODEL_52e4efdc26884d848616fddb8ec0a368",
            "placeholder": "​",
            "style": "IPY_MODEL_b0d4c68229db4effbaa7508af4b740c4",
            "value": "100%"
          }
        },
        "9738f5a8da5e4cb095ba8843eeab3409": {
          "model_module": "@jupyter-widgets/controls",
          "model_name": "FloatProgressModel",
          "model_module_version": "1.5.0",
          "state": {
            "_dom_classes": [],
            "_model_module": "@jupyter-widgets/controls",
            "_model_module_version": "1.5.0",
            "_model_name": "FloatProgressModel",
            "_view_count": null,
            "_view_module": "@jupyter-widgets/controls",
            "_view_module_version": "1.5.0",
            "_view_name": "ProgressView",
            "bar_style": "success",
            "description": "",
            "description_tooltip": null,
            "layout": "IPY_MODEL_2503b41ca0ac475e9912b43a7bdf5cf0",
            "max": 8,
            "min": 0,
            "orientation": "horizontal",
            "style": "IPY_MODEL_70ebfb0d603d491192c1643b43de4440",
            "value": 8
          }
        },
        "10861edea96a4348acf814921752f951": {
          "model_module": "@jupyter-widgets/controls",
          "model_name": "HTMLModel",
          "model_module_version": "1.5.0",
          "state": {
            "_dom_classes": [],
            "_model_module": "@jupyter-widgets/controls",
            "_model_module_version": "1.5.0",
            "_model_name": "HTMLModel",
            "_view_count": null,
            "_view_module": "@jupyter-widgets/controls",
            "_view_module_version": "1.5.0",
            "_view_name": "HTMLView",
            "description": "",
            "description_tooltip": null,
            "layout": "IPY_MODEL_ac187b40e27842d9bfc2694aa9d1db09",
            "placeholder": "​",
            "style": "IPY_MODEL_cd9b75902cf9459e961f5b7055dda0ef",
            "value": " 8/8 [00:00&lt;00:00, 111.58ba/s]"
          }
        },
        "57d1df74dbf043209fa8fbdbaecfb936": {
          "model_module": "@jupyter-widgets/base",
          "model_name": "LayoutModel",
          "model_module_version": "1.2.0",
          "state": {
            "_model_module": "@jupyter-widgets/base",
            "_model_module_version": "1.2.0",
            "_model_name": "LayoutModel",
            "_view_count": null,
            "_view_module": "@jupyter-widgets/base",
            "_view_module_version": "1.2.0",
            "_view_name": "LayoutView",
            "align_content": null,
            "align_items": null,
            "align_self": null,
            "border": null,
            "bottom": null,
            "display": null,
            "flex": null,
            "flex_flow": null,
            "grid_area": null,
            "grid_auto_columns": null,
            "grid_auto_flow": null,
            "grid_auto_rows": null,
            "grid_column": null,
            "grid_gap": null,
            "grid_row": null,
            "grid_template_areas": null,
            "grid_template_columns": null,
            "grid_template_rows": null,
            "height": null,
            "justify_content": null,
            "justify_items": null,
            "left": null,
            "margin": null,
            "max_height": null,
            "max_width": null,
            "min_height": null,
            "min_width": null,
            "object_fit": null,
            "object_position": null,
            "order": null,
            "overflow": null,
            "overflow_x": null,
            "overflow_y": null,
            "padding": null,
            "right": null,
            "top": null,
            "visibility": null,
            "width": null
          }
        },
        "52e4efdc26884d848616fddb8ec0a368": {
          "model_module": "@jupyter-widgets/base",
          "model_name": "LayoutModel",
          "model_module_version": "1.2.0",
          "state": {
            "_model_module": "@jupyter-widgets/base",
            "_model_module_version": "1.2.0",
            "_model_name": "LayoutModel",
            "_view_count": null,
            "_view_module": "@jupyter-widgets/base",
            "_view_module_version": "1.2.0",
            "_view_name": "LayoutView",
            "align_content": null,
            "align_items": null,
            "align_self": null,
            "border": null,
            "bottom": null,
            "display": null,
            "flex": null,
            "flex_flow": null,
            "grid_area": null,
            "grid_auto_columns": null,
            "grid_auto_flow": null,
            "grid_auto_rows": null,
            "grid_column": null,
            "grid_gap": null,
            "grid_row": null,
            "grid_template_areas": null,
            "grid_template_columns": null,
            "grid_template_rows": null,
            "height": null,
            "justify_content": null,
            "justify_items": null,
            "left": null,
            "margin": null,
            "max_height": null,
            "max_width": null,
            "min_height": null,
            "min_width": null,
            "object_fit": null,
            "object_position": null,
            "order": null,
            "overflow": null,
            "overflow_x": null,
            "overflow_y": null,
            "padding": null,
            "right": null,
            "top": null,
            "visibility": null,
            "width": null
          }
        },
        "b0d4c68229db4effbaa7508af4b740c4": {
          "model_module": "@jupyter-widgets/controls",
          "model_name": "DescriptionStyleModel",
          "model_module_version": "1.5.0",
          "state": {
            "_model_module": "@jupyter-widgets/controls",
            "_model_module_version": "1.5.0",
            "_model_name": "DescriptionStyleModel",
            "_view_count": null,
            "_view_module": "@jupyter-widgets/base",
            "_view_module_version": "1.2.0",
            "_view_name": "StyleView",
            "description_width": ""
          }
        },
        "2503b41ca0ac475e9912b43a7bdf5cf0": {
          "model_module": "@jupyter-widgets/base",
          "model_name": "LayoutModel",
          "model_module_version": "1.2.0",
          "state": {
            "_model_module": "@jupyter-widgets/base",
            "_model_module_version": "1.2.0",
            "_model_name": "LayoutModel",
            "_view_count": null,
            "_view_module": "@jupyter-widgets/base",
            "_view_module_version": "1.2.0",
            "_view_name": "LayoutView",
            "align_content": null,
            "align_items": null,
            "align_self": null,
            "border": null,
            "bottom": null,
            "display": null,
            "flex": null,
            "flex_flow": null,
            "grid_area": null,
            "grid_auto_columns": null,
            "grid_auto_flow": null,
            "grid_auto_rows": null,
            "grid_column": null,
            "grid_gap": null,
            "grid_row": null,
            "grid_template_areas": null,
            "grid_template_columns": null,
            "grid_template_rows": null,
            "height": null,
            "justify_content": null,
            "justify_items": null,
            "left": null,
            "margin": null,
            "max_height": null,
            "max_width": null,
            "min_height": null,
            "min_width": null,
            "object_fit": null,
            "object_position": null,
            "order": null,
            "overflow": null,
            "overflow_x": null,
            "overflow_y": null,
            "padding": null,
            "right": null,
            "top": null,
            "visibility": null,
            "width": null
          }
        },
        "70ebfb0d603d491192c1643b43de4440": {
          "model_module": "@jupyter-widgets/controls",
          "model_name": "ProgressStyleModel",
          "model_module_version": "1.5.0",
          "state": {
            "_model_module": "@jupyter-widgets/controls",
            "_model_module_version": "1.5.0",
            "_model_name": "ProgressStyleModel",
            "_view_count": null,
            "_view_module": "@jupyter-widgets/base",
            "_view_module_version": "1.2.0",
            "_view_name": "StyleView",
            "bar_color": null,
            "description_width": ""
          }
        },
        "ac187b40e27842d9bfc2694aa9d1db09": {
          "model_module": "@jupyter-widgets/base",
          "model_name": "LayoutModel",
          "model_module_version": "1.2.0",
          "state": {
            "_model_module": "@jupyter-widgets/base",
            "_model_module_version": "1.2.0",
            "_model_name": "LayoutModel",
            "_view_count": null,
            "_view_module": "@jupyter-widgets/base",
            "_view_module_version": "1.2.0",
            "_view_name": "LayoutView",
            "align_content": null,
            "align_items": null,
            "align_self": null,
            "border": null,
            "bottom": null,
            "display": null,
            "flex": null,
            "flex_flow": null,
            "grid_area": null,
            "grid_auto_columns": null,
            "grid_auto_flow": null,
            "grid_auto_rows": null,
            "grid_column": null,
            "grid_gap": null,
            "grid_row": null,
            "grid_template_areas": null,
            "grid_template_columns": null,
            "grid_template_rows": null,
            "height": null,
            "justify_content": null,
            "justify_items": null,
            "left": null,
            "margin": null,
            "max_height": null,
            "max_width": null,
            "min_height": null,
            "min_width": null,
            "object_fit": null,
            "object_position": null,
            "order": null,
            "overflow": null,
            "overflow_x": null,
            "overflow_y": null,
            "padding": null,
            "right": null,
            "top": null,
            "visibility": null,
            "width": null
          }
        },
        "cd9b75902cf9459e961f5b7055dda0ef": {
          "model_module": "@jupyter-widgets/controls",
          "model_name": "DescriptionStyleModel",
          "model_module_version": "1.5.0",
          "state": {
            "_model_module": "@jupyter-widgets/controls",
            "_model_module_version": "1.5.0",
            "_model_name": "DescriptionStyleModel",
            "_view_count": null,
            "_view_module": "@jupyter-widgets/base",
            "_view_module_version": "1.2.0",
            "_view_name": "StyleView",
            "description_width": ""
          }
        },
        "0c699cb0726644fab05f4da44ce6c8ea": {
          "model_module": "@jupyter-widgets/controls",
          "model_name": "HBoxModel",
          "model_module_version": "1.5.0",
          "state": {
            "_dom_classes": [],
            "_model_module": "@jupyter-widgets/controls",
            "_model_module_version": "1.5.0",
            "_model_name": "HBoxModel",
            "_view_count": null,
            "_view_module": "@jupyter-widgets/controls",
            "_view_module_version": "1.5.0",
            "_view_name": "HBoxView",
            "box_style": "",
            "children": [
              "IPY_MODEL_9bc2e87d89ff4c8289f4036e389e76c6",
              "IPY_MODEL_7ccf63e290d64cb498ce32e230e09acf",
              "IPY_MODEL_c4b8714de7494bfa913591c73b3f753e"
            ],
            "layout": "IPY_MODEL_fef81ddc2c774d1d961328478fe740e9"
          }
        },
        "9bc2e87d89ff4c8289f4036e389e76c6": {
          "model_module": "@jupyter-widgets/controls",
          "model_name": "HTMLModel",
          "model_module_version": "1.5.0",
          "state": {
            "_dom_classes": [],
            "_model_module": "@jupyter-widgets/controls",
            "_model_module_version": "1.5.0",
            "_model_name": "HTMLModel",
            "_view_count": null,
            "_view_module": "@jupyter-widgets/controls",
            "_view_module_version": "1.5.0",
            "_view_name": "HTMLView",
            "description": "",
            "description_tooltip": null,
            "layout": "IPY_MODEL_5a0a1071e2314b19967a322c10413e3d",
            "placeholder": "​",
            "style": "IPY_MODEL_d49f170d213c4ceb8e2c8a6e2fe83c5c",
            "value": "100%"
          }
        },
        "7ccf63e290d64cb498ce32e230e09acf": {
          "model_module": "@jupyter-widgets/controls",
          "model_name": "FloatProgressModel",
          "model_module_version": "1.5.0",
          "state": {
            "_dom_classes": [],
            "_model_module": "@jupyter-widgets/controls",
            "_model_module_version": "1.5.0",
            "_model_name": "FloatProgressModel",
            "_view_count": null,
            "_view_module": "@jupyter-widgets/controls",
            "_view_module_version": "1.5.0",
            "_view_name": "ProgressView",
            "bar_style": "success",
            "description": "",
            "description_tooltip": null,
            "layout": "IPY_MODEL_ee5fb9202b934e6298958b6c4ed2b2c4",
            "max": 26,
            "min": 0,
            "orientation": "horizontal",
            "style": "IPY_MODEL_521a184300214338a3bf5c5432dc1d00",
            "value": 26
          }
        },
        "c4b8714de7494bfa913591c73b3f753e": {
          "model_module": "@jupyter-widgets/controls",
          "model_name": "HTMLModel",
          "model_module_version": "1.5.0",
          "state": {
            "_dom_classes": [],
            "_model_module": "@jupyter-widgets/controls",
            "_model_module_version": "1.5.0",
            "_model_name": "HTMLModel",
            "_view_count": null,
            "_view_module": "@jupyter-widgets/controls",
            "_view_module_version": "1.5.0",
            "_view_name": "HTMLView",
            "description": "",
            "description_tooltip": null,
            "layout": "IPY_MODEL_5b7e974baa2c4403a93c2718274776d3",
            "placeholder": "​",
            "style": "IPY_MODEL_c2f295c66e41451793b84dbd84b7047f",
            "value": " 26/26 [00:00&lt;00:00, 159.28ba/s]"
          }
        },
        "fef81ddc2c774d1d961328478fe740e9": {
          "model_module": "@jupyter-widgets/base",
          "model_name": "LayoutModel",
          "model_module_version": "1.2.0",
          "state": {
            "_model_module": "@jupyter-widgets/base",
            "_model_module_version": "1.2.0",
            "_model_name": "LayoutModel",
            "_view_count": null,
            "_view_module": "@jupyter-widgets/base",
            "_view_module_version": "1.2.0",
            "_view_name": "LayoutView",
            "align_content": null,
            "align_items": null,
            "align_self": null,
            "border": null,
            "bottom": null,
            "display": null,
            "flex": null,
            "flex_flow": null,
            "grid_area": null,
            "grid_auto_columns": null,
            "grid_auto_flow": null,
            "grid_auto_rows": null,
            "grid_column": null,
            "grid_gap": null,
            "grid_row": null,
            "grid_template_areas": null,
            "grid_template_columns": null,
            "grid_template_rows": null,
            "height": null,
            "justify_content": null,
            "justify_items": null,
            "left": null,
            "margin": null,
            "max_height": null,
            "max_width": null,
            "min_height": null,
            "min_width": null,
            "object_fit": null,
            "object_position": null,
            "order": null,
            "overflow": null,
            "overflow_x": null,
            "overflow_y": null,
            "padding": null,
            "right": null,
            "top": null,
            "visibility": null,
            "width": null
          }
        },
        "5a0a1071e2314b19967a322c10413e3d": {
          "model_module": "@jupyter-widgets/base",
          "model_name": "LayoutModel",
          "model_module_version": "1.2.0",
          "state": {
            "_model_module": "@jupyter-widgets/base",
            "_model_module_version": "1.2.0",
            "_model_name": "LayoutModel",
            "_view_count": null,
            "_view_module": "@jupyter-widgets/base",
            "_view_module_version": "1.2.0",
            "_view_name": "LayoutView",
            "align_content": null,
            "align_items": null,
            "align_self": null,
            "border": null,
            "bottom": null,
            "display": null,
            "flex": null,
            "flex_flow": null,
            "grid_area": null,
            "grid_auto_columns": null,
            "grid_auto_flow": null,
            "grid_auto_rows": null,
            "grid_column": null,
            "grid_gap": null,
            "grid_row": null,
            "grid_template_areas": null,
            "grid_template_columns": null,
            "grid_template_rows": null,
            "height": null,
            "justify_content": null,
            "justify_items": null,
            "left": null,
            "margin": null,
            "max_height": null,
            "max_width": null,
            "min_height": null,
            "min_width": null,
            "object_fit": null,
            "object_position": null,
            "order": null,
            "overflow": null,
            "overflow_x": null,
            "overflow_y": null,
            "padding": null,
            "right": null,
            "top": null,
            "visibility": null,
            "width": null
          }
        },
        "d49f170d213c4ceb8e2c8a6e2fe83c5c": {
          "model_module": "@jupyter-widgets/controls",
          "model_name": "DescriptionStyleModel",
          "model_module_version": "1.5.0",
          "state": {
            "_model_module": "@jupyter-widgets/controls",
            "_model_module_version": "1.5.0",
            "_model_name": "DescriptionStyleModel",
            "_view_count": null,
            "_view_module": "@jupyter-widgets/base",
            "_view_module_version": "1.2.0",
            "_view_name": "StyleView",
            "description_width": ""
          }
        },
        "ee5fb9202b934e6298958b6c4ed2b2c4": {
          "model_module": "@jupyter-widgets/base",
          "model_name": "LayoutModel",
          "model_module_version": "1.2.0",
          "state": {
            "_model_module": "@jupyter-widgets/base",
            "_model_module_version": "1.2.0",
            "_model_name": "LayoutModel",
            "_view_count": null,
            "_view_module": "@jupyter-widgets/base",
            "_view_module_version": "1.2.0",
            "_view_name": "LayoutView",
            "align_content": null,
            "align_items": null,
            "align_self": null,
            "border": null,
            "bottom": null,
            "display": null,
            "flex": null,
            "flex_flow": null,
            "grid_area": null,
            "grid_auto_columns": null,
            "grid_auto_flow": null,
            "grid_auto_rows": null,
            "grid_column": null,
            "grid_gap": null,
            "grid_row": null,
            "grid_template_areas": null,
            "grid_template_columns": null,
            "grid_template_rows": null,
            "height": null,
            "justify_content": null,
            "justify_items": null,
            "left": null,
            "margin": null,
            "max_height": null,
            "max_width": null,
            "min_height": null,
            "min_width": null,
            "object_fit": null,
            "object_position": null,
            "order": null,
            "overflow": null,
            "overflow_x": null,
            "overflow_y": null,
            "padding": null,
            "right": null,
            "top": null,
            "visibility": null,
            "width": null
          }
        },
        "521a184300214338a3bf5c5432dc1d00": {
          "model_module": "@jupyter-widgets/controls",
          "model_name": "ProgressStyleModel",
          "model_module_version": "1.5.0",
          "state": {
            "_model_module": "@jupyter-widgets/controls",
            "_model_module_version": "1.5.0",
            "_model_name": "ProgressStyleModel",
            "_view_count": null,
            "_view_module": "@jupyter-widgets/base",
            "_view_module_version": "1.2.0",
            "_view_name": "StyleView",
            "bar_color": null,
            "description_width": ""
          }
        },
        "5b7e974baa2c4403a93c2718274776d3": {
          "model_module": "@jupyter-widgets/base",
          "model_name": "LayoutModel",
          "model_module_version": "1.2.0",
          "state": {
            "_model_module": "@jupyter-widgets/base",
            "_model_module_version": "1.2.0",
            "_model_name": "LayoutModel",
            "_view_count": null,
            "_view_module": "@jupyter-widgets/base",
            "_view_module_version": "1.2.0",
            "_view_name": "LayoutView",
            "align_content": null,
            "align_items": null,
            "align_self": null,
            "border": null,
            "bottom": null,
            "display": null,
            "flex": null,
            "flex_flow": null,
            "grid_area": null,
            "grid_auto_columns": null,
            "grid_auto_flow": null,
            "grid_auto_rows": null,
            "grid_column": null,
            "grid_gap": null,
            "grid_row": null,
            "grid_template_areas": null,
            "grid_template_columns": null,
            "grid_template_rows": null,
            "height": null,
            "justify_content": null,
            "justify_items": null,
            "left": null,
            "margin": null,
            "max_height": null,
            "max_width": null,
            "min_height": null,
            "min_width": null,
            "object_fit": null,
            "object_position": null,
            "order": null,
            "overflow": null,
            "overflow_x": null,
            "overflow_y": null,
            "padding": null,
            "right": null,
            "top": null,
            "visibility": null,
            "width": null
          }
        },
        "c2f295c66e41451793b84dbd84b7047f": {
          "model_module": "@jupyter-widgets/controls",
          "model_name": "DescriptionStyleModel",
          "model_module_version": "1.5.0",
          "state": {
            "_model_module": "@jupyter-widgets/controls",
            "_model_module_version": "1.5.0",
            "_model_name": "DescriptionStyleModel",
            "_view_count": null,
            "_view_module": "@jupyter-widgets/base",
            "_view_module_version": "1.2.0",
            "_view_name": "StyleView",
            "description_width": ""
          }
        }
      }
    }
  },
  "cells": [
    {
      "cell_type": "code",
      "execution_count": null,
      "metadata": {
        "id": "IgBTpccKuIEP"
      },
      "outputs": [],
      "source": [
        "!pip install --quiet wandb\n",
        "!pip install --quiet transformers\n",
        "!pip install --quiet datasets\n",
        "!pip install --quiet emoji\n",
        "!pip install --quiet kaggle\n",
        "!pip install --quiet torchinfo\n",
        "!pip install --quiet imbalanced-learn\n",
        "!pip install --quiet gdown\n",
        "\n",
        "!pip install --quiet clean-text"
      ]
    },
    {
      "cell_type": "code",
      "source": [
        "import os, sys\n",
        "\n",
        "class HiddenPrints:\n",
        "    def __enter__(self):\n",
        "        self._original_stdout = sys.stdout\n",
        "        sys.stdout = open(os.devnull, 'w')\n",
        "\n",
        "    def __exit__(self, exc_type, exc_val, exc_tb):\n",
        "        sys.stdout.close()\n",
        "        sys.stdout = self._original_stdout"
      ],
      "metadata": {
        "id": "TWWdg8dcuRe_"
      },
      "execution_count": null,
      "outputs": []
    },
    {
      "cell_type": "code",
      "source": [
        "#Lexicon-based\n",
        "from textblob import TextBlob\n",
        "from textblob.classifiers import NaiveBayesClassifier\n",
        "from textblob.classifiers import DecisionTreeClassifier\n",
        "from textblob.classifiers import MaxEntClassifier\n",
        "\n",
        "#Transformer-based\n",
        "import transformers\n",
        "from transformers import AutoTokenizer\n",
        "from transformers import BertConfig\n",
        "from transformers.models.bert.modeling_bert import BertModel, BertPreTrainedModel\n",
        "from transformers.modeling_outputs import SequenceClassifierOutput\n",
        "from transformers import AutoConfig\n",
        "from transformers import Trainer, TrainingArguments\n",
        "from transformers import get_scheduler\n",
        "\n",
        "import wandb\n",
        "\n",
        "import torch\n",
        "from torch.optim import AdamW\n",
        "import torch.nn as nn\n",
        "from torch.utils import data\n",
        "\n",
        "# dataset\n",
        "import datasets\n",
        "from datasets import Dataset , Sequence , Value , Features , ClassLabel , DatasetDict\n",
        "\n",
        "from sklearn.model_selection import train_test_split\n",
        "from sklearn.metrics import accuracy_score, f1_score\n",
        "from sklearn.metrics import confusion_matrix, classification_report\n",
        "from sklearn.metrics import ConfusionMatrixDisplay, confusion_matrix\n",
        "\n",
        "# preprocessing\n",
        "import nltk\n",
        "nltk.download('punkt')\n",
        "nltk.download('wordnet')\n",
        "nltk.download('stopwords')\n",
        "from nltk.stem import WordNetLemmatizer\n",
        "from nltk import word_tokenize\n",
        "from nltk.corpus import stopwords\n",
        "from nltk import word_tokenize\n",
        "\n",
        "import re, string\n",
        "import emoji\n",
        "\n",
        "import pandas as pd\n",
        "import seaborn as sns\n",
        "import matplotlib.pyplot as plt\n",
        "import numpy as np\n",
        "from tqdm import tqdm\n",
        "from collections import defaultdict\n",
        "\n",
        "device = torch.device(\"cuda\" if torch.cuda.is_available() else \"cpu\")"
      ],
      "metadata": {
        "colab": {
          "base_uri": "https://localhost:8080/"
        },
        "id": "tbXNLpgXuT7m",
        "outputId": "2ceede9b-6a0f-46f5-d73c-81f7e34afe7c"
      },
      "execution_count": null,
      "outputs": [
        {
          "output_type": "stream",
          "name": "stderr",
          "text": [
            "[nltk_data] Downloading package punkt to /root/nltk_data...\n",
            "[nltk_data]   Package punkt is already up-to-date!\n",
            "[nltk_data] Downloading package wordnet to /root/nltk_data...\n",
            "[nltk_data]   Package wordnet is already up-to-date!\n",
            "[nltk_data] Downloading package stopwords to /root/nltk_data...\n",
            "[nltk_data]   Package stopwords is already up-to-date!\n"
          ]
        }
      ]
    },
    {
      "cell_type": "code",
      "source": [
        "def plot_confusion_matrix(y_preds, y_true, labels):\n",
        "    cm = confusion_matrix(y_true, y_preds, normalize=\"true\")\n",
        "    fig, ax = plt.subplots(figsize=(6, 6))\n",
        "    disp = ConfusionMatrixDisplay(confusion_matrix=cm, display_labels=labels)\n",
        "    disp.plot(cmap=\"Blues\", values_format=\".2f\", ax=ax, colorbar=False)\n",
        "    plt.title(\"Normalized confusion matrix\")\n",
        "    plt.show()"
      ],
      "metadata": {
        "id": "COFfJGhETGYq"
      },
      "execution_count": null,
      "outputs": []
    },
    {
      "cell_type": "code",
      "source": [
        "def compute_metrics(pred):\n",
        "    labels = pred.label_ids\n",
        "    preds = pred.predictions.argmax(-1)\n",
        "    f1 = f1_score(labels, preds, average=\"weighted\")\n",
        "    acc = accuracy_score(labels, preds)\n",
        "    return {\"accuracy\": acc, \"f1\": f1}"
      ],
      "metadata": {
        "id": "Pv2Ib2J0TYOp"
      },
      "execution_count": null,
      "outputs": []
    },
    {
      "cell_type": "code",
      "source": [
        "def clean_text(text):\n",
        "    text = re.sub('#', '', text) # Removing '#' hashtag\n",
        "    text = re.sub('\\w+:\\/\\/\\S+', '', text) # Removing hyperlink\n",
        "    text = re.sub('[^a-zA-Z]', ' ', text) # Remove punctuation\n",
        "    text.lower()\n",
        "    return text"
      ],
      "metadata": {
        "id": "3yOj6okvTcDL"
      },
      "execution_count": null,
      "outputs": []
    },
    {
      "cell_type": "code",
      "source": [
        "def create_dataset(df, text, label):\n",
        "  data_dict = {'text':df[text], 'labels':df[label]}\n",
        "  tags = ClassLabel(num_classes=3 , names=class_names)\n",
        "  feature_set = Features({'text':Value(dtype='string'), 'labels':tags})\n",
        "\n",
        "  return Dataset.from_dict(mapping = data_dict, features = feature_set)"
      ],
      "metadata": {
        "id": "Ett4_0wlTfRM"
      },
      "execution_count": null,
      "outputs": []
    },
    {
      "cell_type": "code",
      "source": [
        "RANDOM_SEED = 42\n",
        "np.random.seed(RANDOM_SEED)\n",
        "torch.manual_seed(RANDOM_SEED)\n",
        "\n",
        "data = pd.read_csv('/content/sample_data/datav3.csv')\n",
        "data = data.drop(['match', 'time', 'slot'], 1)"
      ],
      "metadata": {
        "colab": {
          "base_uri": "https://localhost:8080/"
        },
        "id": "N4AJ1iCauxex",
        "outputId": "71166953-5153-47ea-9a6b-204af68f8c8e"
      },
      "execution_count": null,
      "outputs": [
        {
          "output_type": "stream",
          "name": "stderr",
          "text": [
            "<ipython-input-38-529a279e3d66>:6: FutureWarning: In a future version of pandas all arguments of DataFrame.drop except for the argument 'labels' will be keyword-only\n",
            "  data = data.drop(['match', 'time', 'slot'], 1)\n"
          ]
        }
      ]
    },
    {
      "cell_type": "code",
      "source": [
        "#target = data['target'].unique()"
      ],
      "metadata": {
        "id": "dMOqAROEwyIO"
      },
      "execution_count": null,
      "outputs": []
    },
    {
      "cell_type": "code",
      "source": [
        "target = dict(data['target'].value_counts())\n",
        "labels = list(target.keys())\n",
        "counts = list(target.values())\n",
        "plt.bar(labels,counts, color ='green',width = 0.4)"
      ],
      "metadata": {
        "colab": {
          "base_uri": "https://localhost:8080/",
          "height": 282
        },
        "id": "L1BvVOOGRTWQ",
        "outputId": "2fe45424-2682-4563-f3bd-4d3a93e2113a"
      },
      "execution_count": null,
      "outputs": [
        {
          "output_type": "execute_result",
          "data": {
            "text/plain": [
              "<BarContainer object of 3 artists>"
            ]
          },
          "metadata": {},
          "execution_count": 40
        },
        {
          "output_type": "display_data",
          "data": {
            "text/plain": [
              "<Figure size 432x288 with 1 Axes>"
            ],
            "image/png": "[encoded data removed]"
          },
          "metadata": {
            "needs_background": "light"
          }
        }
      ]
    },
    {
      "cell_type": "code",
      "source": [
        "models = [\"distilbert-base-uncased\", \"bert-base-uncased\", \"bert-base-cased\"]\n",
        "model_name = models[1]\n",
        "\n",
        "class_names = ['not toxic', 'somehow toxic', 'totally toxic']\n",
        "max_len = 64"
      ],
      "metadata": {
        "id": "T8LfzQJNypEZ"
      },
      "execution_count": null,
      "outputs": []
    },
    {
      "cell_type": "code",
      "source": [
        "train, test = train_test_split(data, test_size = 0.25, random_state = 0)\n",
        "lexi_train = train.copy() #for lexicon-based"
      ],
      "metadata": {
        "id": "BrJjvraXzEFw"
      },
      "execution_count": null,
      "outputs": []
    },
    {
      "cell_type": "code",
      "source": [
        "train.loc[:,'text'] = train['text'].apply(lambda x : clean_text(x))\n",
        "test.loc[:,'text'] = test['text'].apply(lambda x : clean_text(x))"
      ],
      "metadata": {
        "id": "aavdIxf7y-Yv"
      },
      "execution_count": null,
      "outputs": []
    },
    {
      "cell_type": "code",
      "source": [
        "train, val = train_test_split(train, test_size=0.1, random_state=RANDOM_SEED, stratify=train['target'])"
      ],
      "metadata": {
        "id": "33TCTYCFxSbP"
      },
      "execution_count": null,
      "outputs": []
    },
    {
      "cell_type": "code",
      "source": [
        "dataset_train = create_dataset(train,\"text\",\"target\")\n",
        "dataset_val = create_dataset(val,\"text\",\"target\")\n",
        "dataset_test = create_dataset(test,\"text\",\"target\")"
      ],
      "metadata": {
        "id": "I8CT1dGrzctH"
      },
      "execution_count": null,
      "outputs": []
    },
    {
      "cell_type": "code",
      "source": [
        "dataset_chat_analysis = DatasetDict()\n",
        "dataset_chat_analysis[\"train\"] = dataset_train\n",
        "dataset_chat_analysis[\"val\"] = dataset_val\n",
        "dataset_chat_analysis[\"test\"] = dataset_test"
      ],
      "metadata": {
        "id": "FSPMnWCT0F1Y"
      },
      "execution_count": null,
      "outputs": []
    },
    {
      "cell_type": "code",
      "source": [
        "tokenizer = AutoTokenizer.from_pretrained(model_name)"
      ],
      "metadata": {
        "id": "vDif1WUWzmle"
      },
      "execution_count": null,
      "outputs": []
    },
    {
      "cell_type": "code",
      "source": [
        "def tokenize(batch):\n",
        "    return tokenizer(batch[\"text\"], padding=True, truncation=True, max_length=max_len)"
      ],
      "metadata": {
        "id": "2zlekq06zvwq"
      },
      "execution_count": null,
      "outputs": []
    },
    {
      "cell_type": "code",
      "source": [
        "sample_text = \"What is  going on @resturant.:( It makes   Me Feel Upset.😞\"\n",
        "tokens = tokenizer.tokenize(sample_text)\n",
        "#print(len(tokens), tokens)\n",
        "token_ids = tokenizer.convert_tokens_to_ids(tokens)\n",
        "#print(len(token_ids), token_ids)\n",
        "\n",
        "token_dictionary = tokenizer(sample_text)\n",
        "#print(token_dictionary)\n",
        "#print(len(token_dictionary.input_ids)) # automatically added cls, sep\n",
        "\n",
        "tokens = tokenizer.convert_ids_to_tokens(token_dictionary['input_ids'])\n",
        "#print(tokens)\n",
        "\n",
        "token_encode = tokenizer.encode(sample_text) #convert to tokens ids but with cls+sep\n",
        "#print(token_encode)"
      ],
      "metadata": {
        "id": "WspqlWf-zxcP"
      },
      "execution_count": null,
      "outputs": []
    },
    {
      "cell_type": "code",
      "source": [
        "print(tokenizer.sep_token, tokenizer.sep_token_id)\n",
        "print(tokenizer.cls_token, tokenizer.cls_token_id)\n",
        "print(tokenizer.pad_token, tokenizer.pad_token_id)\n",
        "print(tokenizer.unk_token, tokenizer.unk_token_id)"
      ],
      "metadata": {
        "colab": {
          "base_uri": "https://localhost:8080/"
        },
        "id": "me3SBr_bz18Z",
        "outputId": "70c254c9-0ef7-4649-b373-1757473f9179"
      },
      "execution_count": null,
      "outputs": [
        {
          "output_type": "stream",
          "name": "stdout",
          "text": [
            "[SEP] 102\n",
            "[CLS] 101\n",
            "[PAD] 0\n",
            "[UNK] 100\n"
          ]
        }
      ]
    },
    {
      "cell_type": "code",
      "source": [
        "encoding = tokenizer.encode_plus(\n",
        "    sample_text,\n",
        "    max_length=max_len,\n",
        "    add_special_tokens=True,\n",
        "    pad_to_max_length=True,\n",
        "    return_attention_mask=True,\n",
        "    return_token_type_ids=False,\n",
        "    return_tensors=\"pt\"\n",
        ")"
      ],
      "metadata": {
        "colab": {
          "base_uri": "https://localhost:8080/"
        },
        "id": "1On1qr2xz34g",
        "outputId": "540909d7-a4ec-4609-9513-f4160d8194ac"
      },
      "execution_count": null,
      "outputs": [
        {
          "output_type": "stream",
          "name": "stderr",
          "text": [
            "/usr/local/lib/python3.8/dist-packages/transformers/tokenization_utils_base.py:2336: FutureWarning: The `pad_to_max_length` argument is deprecated and will be removed in a future version, use `padding=True` or `padding='longest'` to pad to the longest sequence in the batch, or use `padding='max_length'` to pad to a max length. In this case, you can give a specific length with `max_length` (e.g. `max_length=45`) or leave max_length to None to pad to the maximal input size of the model (e.g. 512 for Bert).\n",
            "  warnings.warn(\n"
          ]
        }
      ]
    },
    {
      "cell_type": "code",
      "source": [
        "encoded = dataset_chat_analysis.map(tokenize, batched=True, batch_size=32)"
      ],
      "metadata": {
        "colab": {
          "base_uri": "https://localhost:8080/",
          "height": 113,
          "referenced_widgets": [
            "297e1758239a45678e5fade0657951c4",
            "2acbcd2feedf4187ad4abe7f842acc8b",
            "8e40ccd601104fd6a7e2fb7a8237bb5b",
            "3503dc1406274b01965d25f406491665",
            "51df851d17db49879a8b68e8ae1d98d5",
            "f2e6e215b9504ea8980fe9ce3095be1f",
            "1743ad093aa347e7ab052c52bebb0193",
            "52feeb3373ea40fa9ed1dfd313c0c391",
            "fb915e7f649f4ac2808f2757db86b3b8",
            "dc58597530864a68afdaca9713fcc485",
            "58ac9b9edd29436e91e3c66e6efce410",
            "99b8d0992d4e42009e5dc16e03e69b6a",
            "758982f7cf9a4a84bc8bfe23033f3e0a",
            "9738f5a8da5e4cb095ba8843eeab3409",
            "10861edea96a4348acf814921752f951",
            "57d1df74dbf043209fa8fbdbaecfb936",
            "52e4efdc26884d848616fddb8ec0a368",
            "b0d4c68229db4effbaa7508af4b740c4",
            "2503b41ca0ac475e9912b43a7bdf5cf0",
            "70ebfb0d603d491192c1643b43de4440",
            "ac187b40e27842d9bfc2694aa9d1db09",
            "cd9b75902cf9459e961f5b7055dda0ef",
            "0c699cb0726644fab05f4da44ce6c8ea",
            "9bc2e87d89ff4c8289f4036e389e76c6",
            "7ccf63e290d64cb498ce32e230e09acf",
            "c4b8714de7494bfa913591c73b3f753e",
            "fef81ddc2c774d1d961328478fe740e9",
            "5a0a1071e2314b19967a322c10413e3d",
            "d49f170d213c4ceb8e2c8a6e2fe83c5c",
            "ee5fb9202b934e6298958b6c4ed2b2c4",
            "521a184300214338a3bf5c5432dc1d00",
            "5b7e974baa2c4403a93c2718274776d3",
            "c2f295c66e41451793b84dbd84b7047f"
          ]
        },
        "id": "_Tj8RaGKz7h3",
        "outputId": "ff9d05c1-3a89-479b-f4b4-831a41bae309"
      },
      "execution_count": null,
      "outputs": [
        {
          "output_type": "display_data",
          "data": {
            "text/plain": [
              "  0%|          | 0/69 [00:00<?, ?ba/s]"
            ],
            "application/vnd.jupyter.widget-view+json": {
              "version_major": 2,
              "version_minor": 0,
              "model_id": "297e1758239a45678e5fade0657951c4"
            }
          },
          "metadata": {}
        },
        {
          "output_type": "display_data",
          "data": {
            "text/plain": [
              "  0%|          | 0/8 [00:00<?, ?ba/s]"
            ],
            "application/vnd.jupyter.widget-view+json": {
              "version_major": 2,
              "version_minor": 0,
              "model_id": "99b8d0992d4e42009e5dc16e03e69b6a"
            }
          },
          "metadata": {}
        },
        {
          "output_type": "display_data",
          "data": {
            "text/plain": [
              "  0%|          | 0/26 [00:00<?, ?ba/s]"
            ],
            "application/vnd.jupyter.widget-view+json": {
              "version_major": 2,
              "version_minor": 0,
              "model_id": "0c699cb0726644fab05f4da44ce6c8ea"
            }
          },
          "metadata": {}
        }
      ]
    },
    {
      "cell_type": "code",
      "source": [
        "class BertForClassification(BertPreTrainedModel):\n",
        "\n",
        "    def __init__(self, config):\n",
        "        super().__init__(config)\n",
        "        self.num_labels = config.num_labels\n",
        "        self.config = config\n",
        "\n",
        "        # Load model body > return all og the HS\n",
        "        self.bert = BertModel(config)\n",
        "        # Set up token classification head\n",
        "        self.dropout = nn.Dropout(config.hidden_dropout_prob)\n",
        "        self.classifier = nn.Linear(config.hidden_size, config.num_labels)\n",
        "\n",
        "        # Initialize weights and apply final processing\n",
        "        self.post_init()\n",
        "\n",
        "\n",
        "    def forward(self, input_ids=None, attention_mask=None, token_type_ids=None, \n",
        "                labels=None, **kwargs):\n",
        "        # Use model body to get encoder representations\n",
        "        outputs = self.bert(input_ids, attention_mask=attention_mask,\n",
        "                               token_type_ids=token_type_ids, **kwargs)\n",
        "\n",
        "        # Apply classifier to encoder representation > [cls]\n",
        "        sequence_output = self.dropout(outputs[1])\n",
        "        logits = self.classifier(sequence_output)\n",
        "\n",
        "        # Calculate losses\n",
        "        loss = None\n",
        "        if labels is not None:\n",
        "            loss_fct = nn.CrossEntropyLoss()\n",
        "            loss = loss_fct(logits.view(-1, self.num_labels), labels.view(-1))\n",
        "        # Return model output object\n",
        "        return SequenceClassifierOutput(\n",
        "            loss=loss,\n",
        "            logits=logits,\n",
        "            hidden_states=outputs.hidden_states,\n",
        "            attentions=outputs.attentions,\n",
        "        )"
      ],
      "metadata": {
        "id": "TFxqZXDIz_Zo"
      },
      "execution_count": null,
      "outputs": []
    },
    {
      "cell_type": "code",
      "source": [
        "id2label = {0:'not toxic', 1:'somehow toxic', 2:'totally toxic'}\n",
        "label2id = { v:k for (k,v) in id2label.items()}\n",
        "\n",
        "bert_config = AutoConfig.from_pretrained(model_name, num_labels=3, id2label=id2label, label2id=label2id)\n",
        "bert_model = (BertForClassification.from_pretrained(model_name, config=bert_config).to(device))"
      ],
      "metadata": {
        "id": "23XLVq8z0N0H"
      },
      "execution_count": null,
      "outputs": []
    },
    {
      "cell_type": "code",
      "source": [
        "! wandb login fa19cfab8c0967bc35372f9f40932d67154809a9"
      ],
      "metadata": {
        "colab": {
          "base_uri": "https://localhost:8080/"
        },
        "id": "hpkSvqHm0Pn3",
        "outputId": "85c88923-50b8-452c-a10b-7ef30e5c7f0f"
      },
      "execution_count": null,
      "outputs": [
        {
          "output_type": "stream",
          "name": "stdout",
          "text": [
            "\u001b[34m\u001b[1mwandb\u001b[0m: Appending key for api.wandb.ai to your netrc file: /root/.netrc\n"
          ]
        }
      ]
    },
    {
      "cell_type": "code",
      "source": [
        "wandb.login()\n",
        "\n",
        "wandb.init(project=\"bert-for-english-classification\")\n",
        "\n",
        "batch_size = 16\n",
        "logging_steps = len(encoded[\"train\"]) // batch_size\n",
        "model_name = f\"{model_name}-finetuned-dota-chat\"\n",
        "training_args = TrainingArguments(output_dir=model_name,\n",
        "                                  num_train_epochs=5,\n",
        "                                  per_device_train_batch_size=batch_size,\n",
        "                                  per_device_eval_batch_size=batch_size,\n",
        "                                  weight_decay=0.01,\n",
        "                                  evaluation_strategy=\"epoch\", \n",
        "                                  save_steps=1e6,\n",
        "                                  disable_tqdm=False,\n",
        "                                  logging_steps=logging_steps,\n",
        "                                  push_to_hub=False, \n",
        "                                  log_level=\"error\",\n",
        "                                  report_to=\"wandb\",\n",
        "                                  run_name=\"bert-sentiment-analysis\")"
      ],
      "metadata": {
        "colab": {
          "base_uri": "https://localhost:8080/",
          "height": 225
        },
        "id": "bdSaDVJV0ToW",
        "outputId": "3c9636ee-579b-4d3a-d26d-a602e83379bf"
      },
      "execution_count": null,
      "outputs": [
        {
          "output_type": "stream",
          "name": "stderr",
          "text": [
            "\u001b[34m\u001b[1mwandb\u001b[0m: \u001b[33mWARNING\u001b[0m Calling wandb.login() after wandb.init() has no effect.\n"
          ]
        },
        {
          "output_type": "display_data",
          "data": {
            "text/plain": [
              "<IPython.core.display.HTML object>"
            ],
            "text/html": [
              "Finishing last run (ID:r8lp427t) before initializing another..."
            ]
          },
          "metadata": {}
        },
        {
          "output_type": "display_data",
          "data": {
            "text/plain": [
              "<IPython.core.display.HTML object>"
            ],
            "text/html": [
              "Waiting for W&B process to finish... <strong style=\"color:green\">(success).</strong>"
            ]
          },
          "metadata": {}
        },
        {
          "output_type": "display_data",
          "data": {
            "text/plain": [
              "<IPython.core.display.HTML object>"
            ],
            "text/html": [
              " View run <strong style=\"color:#cdcd00\">rural-spaceship-81</strong> at: <a href=\"https://wandb.ai/timka/bert-for-english-classification/runs/r8lp427t\" target=\"_blank\">https://wandb.ai/timka/bert-for-english-classification/runs/r8lp427t</a><br/>Synced 5 W&B file(s), 0 media file(s), 0 artifact file(s) and 0 other file(s)"
            ]
          },
          "metadata": {}
        },
        {
          "output_type": "display_data",
          "data": {
            "text/plain": [
              "<IPython.core.display.HTML object>"
            ],
            "text/html": [
              "Find logs at: <code>./wandb/run-20230115_115300-r8lp427t/logs</code>"
            ]
          },
          "metadata": {}
        },
        {
          "output_type": "display_data",
          "data": {
            "text/plain": [
              "<IPython.core.display.HTML object>"
            ],
            "text/html": [
              "Successfully finished last run (ID:r8lp427t). Initializing new run:<br/>"
            ]
          },
          "metadata": {}
        },
        {
          "output_type": "display_data",
          "data": {
            "text/plain": [
              "<IPython.core.display.HTML object>"
            ],
            "text/html": [
              "Tracking run with wandb version 0.13.9"
            ]
          },
          "metadata": {}
        },
        {
          "output_type": "display_data",
          "data": {
            "text/plain": [
              "<IPython.core.display.HTML object>"
            ],
            "text/html": [
              "Run data is saved locally in <code>/content/wandb/run-20230115_120435-191srrc3</code>"
            ]
          },
          "metadata": {}
        },
        {
          "output_type": "display_data",
          "data": {
            "text/plain": [
              "<IPython.core.display.HTML object>"
            ],
            "text/html": [
              "Syncing run <strong><a href=\"https://wandb.ai/timka/bert-for-english-classification/runs/191srrc3\" target=\"_blank\">solar-shadow-82</a></strong> to <a href=\"https://wandb.ai/timka/bert-for-english-classification\" target=\"_blank\">Weights & Biases</a> (<a href=\"https://wandb.me/run\" target=\"_blank\">docs</a>)<br/>"
            ]
          },
          "metadata": {}
        },
        {
          "output_type": "display_data",
          "data": {
            "text/plain": [
              "<IPython.core.display.HTML object>"
            ],
            "text/html": [
              " View project at <a href=\"https://wandb.ai/timka/bert-for-english-classification\" target=\"_blank\">https://wandb.ai/timka/bert-for-english-classification</a>"
            ]
          },
          "metadata": {}
        },
        {
          "output_type": "display_data",
          "data": {
            "text/plain": [
              "<IPython.core.display.HTML object>"
            ],
            "text/html": [
              " View run at <a href=\"https://wandb.ai/timka/bert-for-english-classification/runs/191srrc3\" target=\"_blank\">https://wandb.ai/timka/bert-for-english-classification/runs/191srrc3</a>"
            ]
          },
          "metadata": {}
        }
      ]
    },
    {
      "cell_type": "code",
      "source": [
        "#Lexicon-based Machine Learning - Bayesian, Decision Tree, Max Entropy\n",
        "\n",
        "train_data = []\n",
        "for index, row in lexi_train.iterrows():\n",
        "    train_data.append((row['text'], row['target']))\n",
        "\n",
        "nb = NaiveBayesClassifier(train_data)\n",
        "dt = DecisionTreeClassifier(train_data)\n",
        "me = MaxEntClassifier(train_data)"
      ],
      "metadata": {
        "id": "U3uAPWqW29kp"
      },
      "execution_count": null,
      "outputs": []
    },
    {
      "cell_type": "code",
      "source": [
        "optimizer = AdamW(bert_model.parameters(), lr=2e-5)\n",
        "\n",
        "num_epochs = 10\n",
        "num_training_steps = num_epochs * logging_steps\n",
        "lr_scheduler = get_scheduler(\n",
        "    name=\"linear\", \n",
        "    optimizer=optimizer, \n",
        "    num_warmup_steps=0, \n",
        "    num_training_steps=num_training_steps\n",
        ")\n",
        "\n",
        "trainer_preprocessed_lr = Trainer(\n",
        "    model=bert_model, args=training_args, \n",
        "    compute_metrics=compute_metrics, \n",
        "    train_dataset=encoded[\"train\"], \n",
        "    eval_dataset=encoded[\"val\"], \n",
        "    tokenizer=tokenizer, \n",
        "    optimizers=(optimizer,lr_scheduler)\n",
        ")\n",
        "\n",
        "trainer_preprocessed_lr.train()"
      ],
      "metadata": {
        "colab": {
          "base_uri": "https://localhost:8080/",
          "height": 284
        },
        "id": "bg9wwdTN0zww",
        "outputId": "2b52c0ad-8a66-40e8-c76e-c15b97aecfbe"
      },
      "execution_count": null,
      "outputs": [
        {
          "output_type": "display_data",
          "data": {
            "text/plain": [
              "<IPython.core.display.HTML object>"
            ],
            "text/html": [
              "\n",
              "    <div>\n",
              "      \n",
              "      <progress value='690' max='690' style='width:300px; height:20px; vertical-align: middle;'></progress>\n",
              "      [690/690 1:03:47, Epoch 5/5]\n",
              "    </div>\n",
              "    <table border=\"1\" class=\"dataframe\">\n",
              "  <thead>\n",
              " <tr style=\"text-align: left;\">\n",
              "      <th>Epoch</th>\n",
              "      <th>Training Loss</th>\n",
              "      <th>Validation Loss</th>\n",
              "      <th>Accuracy</th>\n",
              "      <th>F1</th>\n",
              "    </tr>\n",
              "  </thead>\n",
              "  <tbody>\n",
              "    <tr>\n",
              "      <td>1</td>\n",
              "      <td>0.715900</td>\n",
              "      <td>0.560189</td>\n",
              "      <td>0.791837</td>\n",
              "      <td>0.768981</td>\n",
              "    </tr>\n",
              "    <tr>\n",
              "      <td>2</td>\n",
              "      <td>0.402300</td>\n",
              "      <td>0.428787</td>\n",
              "      <td>0.861224</td>\n",
              "      <td>0.856628</td>\n",
              "    </tr>\n",
              "    <tr>\n",
              "      <td>3</td>\n",
              "      <td>0.247800</td>\n",
              "      <td>0.511555</td>\n",
              "      <td>0.848980</td>\n",
              "      <td>0.845883</td>\n",
              "    </tr>\n",
              "    <tr>\n",
              "      <td>4</td>\n",
              "      <td>0.179000</td>\n",
              "      <td>0.482457</td>\n",
              "      <td>0.857143</td>\n",
              "      <td>0.854601</td>\n",
              "    </tr>\n",
              "    <tr>\n",
              "      <td>5</td>\n",
              "      <td>0.111900</td>\n",
              "      <td>0.637017</td>\n",
              "      <td>0.873469</td>\n",
              "      <td>0.871793</td>\n",
              "    </tr>\n",
              "  </tbody>\n",
              "</table><p>"
            ]
          },
          "metadata": {}
        },
        {
          "output_type": "execute_result",
          "data": {
            "text/plain": [
              "TrainOutput(global_step=690, training_loss=0.3297777097294296, metrics={'train_runtime': 3841.8448, 'train_samples_per_second': 2.87, 'train_steps_per_second': 0.18, 'total_flos': 145534609180800.0, 'train_loss': 0.3297777097294296, 'epoch': 5.0})"
            ]
          },
          "metadata": {},
          "execution_count": 58
        }
      ]
    },
    {
      "cell_type": "code",
      "source": [
        "model = bert_model\n",
        "model.eval()\n",
        "preds_output = trainer_preprocessed_lr.predict(encoded[\"test\"])\n",
        "pd.DataFrame(list(preds_output.metrics.items())).T"
      ],
      "metadata": {
        "id": "rnhc1YyW1N8e",
        "colab": {
          "base_uri": "https://localhost:8080/",
          "height": 112
        },
        "outputId": "22487a28-9b85-4fc2-c688-5fadf07c75a1"
      },
      "execution_count": null,
      "outputs": [
        {
          "output_type": "display_data",
          "data": {
            "text/plain": [
              "<IPython.core.display.HTML object>"
            ],
            "text/html": []
          },
          "metadata": {}
        },
        {
          "output_type": "execute_result",
          "data": {
            "text/plain": [
              "           0              1         2             3                        4  \\\n",
              "0  test_loss  test_accuracy   test_f1  test_runtime  test_samples_per_second   \n",
              "1   0.597655       0.864137  0.865059       49.8231                   16.398   \n",
              "\n",
              "                       5  \n",
              "0  test_steps_per_second  \n",
              "1                  1.044  "
            ],
            "text/html": [
              "\n",
              "  <div id=\"df-03ebb038-df86-4a16-a62c-34cbcbf1e071\">\n",
              "    <div class=\"colab-df-container\">\n",
              "      <div>\n",
              "<style scoped>\n",
              "    .dataframe tbody tr th:only-of-type {\n",
              "        vertical-align: middle;\n",
              "    }\n",
              "\n",
              "    .dataframe tbody tr th {\n",
              "        vertical-align: top;\n",
              "    }\n",
              "\n",
              "    .dataframe thead th {\n",
              "        text-align: right;\n",
              "    }\n",
              "</style>\n",
              "<table border=\"1\" class=\"dataframe\">\n",
              "  <thead>\n",
              "    <tr style=\"text-align: right;\">\n",
              "      <th></th>\n",
              "      <th>0</th>\n",
              "      <th>1</th>\n",
              "      <th>2</th>\n",
              "      <th>3</th>\n",
              "      <th>4</th>\n",
              "      <th>5</th>\n",
              "    </tr>\n",
              "  </thead>\n",
              "  <tbody>\n",
              "    <tr>\n",
              "      <th>0</th>\n",
              "      <td>test_loss</td>\n",
              "      <td>test_accuracy</td>\n",
              "      <td>test_f1</td>\n",
              "      <td>test_runtime</td>\n",
              "      <td>test_samples_per_second</td>\n",
              "      <td>test_steps_per_second</td>\n",
              "    </tr>\n",
              "    <tr>\n",
              "      <th>1</th>\n",
              "      <td>0.597655</td>\n",
              "      <td>0.864137</td>\n",
              "      <td>0.865059</td>\n",
              "      <td>49.8231</td>\n",
              "      <td>16.398</td>\n",
              "      <td>1.044</td>\n",
              "    </tr>\n",
              "  </tbody>\n",
              "</table>\n",
              "</div>\n",
              "      <button class=\"colab-df-convert\" onclick=\"convertToInteractive('df-03ebb038-df86-4a16-a62c-34cbcbf1e071')\"\n",
              "              title=\"Convert this dataframe to an interactive table.\"\n",
              "              style=\"display:none;\">\n",
              "        \n",
              "  <svg xmlns=\"http://www.w3.org/2000/svg\" height=\"24px\"viewBox=\"0 0 24 24\"\n",
              "       width=\"24px\">\n",
              "    <path d=\"M0 0h24v24H0V0z\" fill=\"none\"/>\n",
              "    <path d=\"M18.56 5.44l.94 2.06.94-2.06 2.06-.94-2.06-.94-.94-2.06-.94 2.06-2.06.94zm-11 1L8.5 8.5l.94-2.06 2.06-.94-2.06-.94L8.5 2.5l-.94 2.06-2.06.94zm10 10l.94 2.06.94-2.06 2.06-.94-2.06-.94-.94-2.06-.94 2.06-2.06.94z\"/><path d=\"M17.41 7.96l-1.37-1.37c-.4-.4-.92-.59-1.43-.59-.52 0-1.04.2-1.43.59L10.3 9.45l-7.72 7.72c-.78.78-.78 2.05 0 2.83L4 21.41c.39.39.9.59 1.41.59.51 0 1.02-.2 1.41-.59l7.78-7.78 2.81-2.81c.8-.78.8-2.07 0-2.86zM5.41 20L4 18.59l7.72-7.72 1.47 1.35L5.41 20z\"/>\n",
              "  </svg>\n",
              "      </button>\n",
              "      \n",
              "  <style>\n",
              "    .colab-df-container {\n",
              "      display:flex;\n",
              "      flex-wrap:wrap;\n",
              "      gap: 12px;\n",
              "    }\n",
              "\n",
              "    .colab-df-convert {\n",
              "      background-color: #E8F0FE;\n",
              "      border: none;\n",
              "      border-radius: 50%;\n",
              "      cursor: pointer;\n",
              "      display: none;\n",
              "      fill: #1967D2;\n",
              "      height: 32px;\n",
              "      padding: 0 0 0 0;\n",
              "      width: 32px;\n",
              "    }\n",
              "\n",
              "    .colab-df-convert:hover {\n",
              "      background-color: #E2EBFA;\n",
              "      box-shadow: 0px 1px 2px rgba(60, 64, 67, 0.3), 0px 1px 3px 1px rgba(60, 64, 67, 0.15);\n",
              "      fill: #174EA6;\n",
              "    }\n",
              "\n",
              "    [theme=dark] .colab-df-convert {\n",
              "      background-color: #3B4455;\n",
              "      fill: #D2E3FC;\n",
              "    }\n",
              "\n",
              "    [theme=dark] .colab-df-convert:hover {\n",
              "      background-color: #434B5C;\n",
              "      box-shadow: 0px 1px 3px 1px rgba(0, 0, 0, 0.15);\n",
              "      filter: drop-shadow(0px 1px 2px rgba(0, 0, 0, 0.3));\n",
              "      fill: #FFFFFF;\n",
              "    }\n",
              "  </style>\n",
              "\n",
              "      <script>\n",
              "        const buttonEl =\n",
              "          document.querySelector('#df-03ebb038-df86-4a16-a62c-34cbcbf1e071 button.colab-df-convert');\n",
              "        buttonEl.style.display =\n",
              "          google.colab.kernel.accessAllowed ? 'block' : 'none';\n",
              "\n",
              "        async function convertToInteractive(key) {\n",
              "          const element = document.querySelector('#df-03ebb038-df86-4a16-a62c-34cbcbf1e071');\n",
              "          const dataTable =\n",
              "            await google.colab.kernel.invokeFunction('convertToInteractive',\n",
              "                                                     [key], {});\n",
              "          if (!dataTable) return;\n",
              "\n",
              "          const docLinkHtml = 'Like what you see? Visit the ' +\n",
              "            '<a target=\"_blank\" href=https://colab.research.google.com/notebooks/data_table.ipynb>data table notebook</a>'\n",
              "            + ' to learn more about interactive tables.';\n",
              "          element.innerHTML = '';\n",
              "          dataTable['output_type'] = 'display_data';\n",
              "          await google.colab.output.renderOutput(dataTable, element);\n",
              "          const docLink = document.createElement('div');\n",
              "          docLink.innerHTML = docLinkHtml;\n",
              "          element.appendChild(docLink);\n",
              "        }\n",
              "      </script>\n",
              "    </div>\n",
              "  </div>\n",
              "  "
            ]
          },
          "metadata": {},
          "execution_count": 59
        }
      ]
    },
    {
      "cell_type": "code",
      "source": [
        "torch.save(bert_model.state_dict(), \"/content/sample_data/bert-classification-head-uncased\")"
      ],
      "metadata": {
        "id": "M32h1DK21QS_"
      },
      "execution_count": null,
      "outputs": []
    },
    {
      "cell_type": "code",
      "source": [
        "nbpred = []\n",
        "dtpred = []\n",
        "mepred = []\n",
        "for index, row in test.iterrows():\n",
        "    nbpred.append(int(nb.classify(row['text'])))\n",
        "    dtpred.append(int(dt.classify(row['text'])))\n",
        "    mepred.append(int(me.classify(row['text'])))\n",
        "\n",
        "nb_predict = pd.Series(nbpred)\n",
        "dt_predict = pd.Series(dtpred)\n",
        "me_predict = pd.Series(mepred)"
      ],
      "metadata": {
        "id": "grvEDKp83VWv",
        "colab": {
          "base_uri": "https://localhost:8080/"
        },
        "outputId": "62c689d5-6e1c-4687-b585-9728ac9b845f"
      },
      "execution_count": null,
      "outputs": [
        {
          "output_type": "stream",
          "name": "stdout",
          "text": [
            "  ==> Training (100 iterations)\n",
            "\n",
            "      Iteration    Log Likelihood    Accuracy\n",
            "      ---------------------------------------\n",
            "             1          -1.09861        0.309\n"
          ]
        },
        {
          "output_type": "stream",
          "name": "stderr",
          "text": [
            "/usr/local/lib/python3.8/dist-packages/nltk/classify/maxent.py:1381: RuntimeWarning: overflow encountered in power\n",
            "  exp_nf_delta = 2 ** nf_delta\n",
            "/usr/local/lib/python3.8/dist-packages/nltk/classify/maxent.py:1383: RuntimeWarning: invalid value encountered in multiply\n",
            "  sum1 = numpy.sum(exp_nf_delta * A, axis=0)\n",
            "/usr/local/lib/python3.8/dist-packages/nltk/classify/maxent.py:1384: RuntimeWarning: invalid value encountered in multiply\n",
            "  sum2 = numpy.sum(nf_exp_nf_delta * A, axis=0)\n",
            "/usr/local/lib/python3.8/dist-packages/nltk/classify/maxent.py:1391: RuntimeWarning: invalid value encountered in true_divide\n",
            "  deltas -= (ffreq_empirical - sum1) / -sum2\n"
          ]
        },
        {
          "output_type": "stream",
          "name": "stdout",
          "text": [
            "         Final               nan        0.545\n"
          ]
        }
      ]
    },
    {
      "cell_type": "code",
      "source": [
        "bert_predict = np.argmax(preds_output.predictions, axis=1)\n",
        "bert_test = np.array(encoded[\"test\"][\"labels\"])\n",
        "labels = encoded[\"train\"].features[\"labels\"].names\n",
        "plot_confusion_matrix(bert_predict, bert_test, labels)"
      ],
      "metadata": {
        "id": "Q-iTJgLZ1jLJ",
        "colab": {
          "base_uri": "https://localhost:8080/",
          "height": 404
        },
        "outputId": "f6384e90-21bb-4e78-983a-7470b739f9d7"
      },
      "execution_count": null,
      "outputs": [
        {
          "output_type": "display_data",
          "data": {
            "text/plain": [
              "<Figure size 432x432 with 1 Axes>"
            ],
            "image/png": "[encoded data removed]"
          },
          "metadata": {
            "needs_background": "light"
          }
        }
      ]
    },
    {
      "cell_type": "code",
      "source": [
        "trainer_preprocessed_lr.save_model('/content/sample_data/dota-chat-bert-model-uncased')"
      ],
      "metadata": {
        "id": "FLslycRC330k"
      },
      "execution_count": null,
      "outputs": []
    },
    {
      "cell_type": "markdown",
      "source": [
        "## BERT"
      ],
      "metadata": {
        "id": "cEwCF2DZ1vVQ"
      }
    },
    {
      "cell_type": "code",
      "source": [
        "print(classification_report(bert_test, bert_predict, target_names=class_names))"
      ],
      "metadata": {
        "id": "HPCdZxrV1gYJ",
        "colab": {
          "base_uri": "https://localhost:8080/"
        },
        "outputId": "ec19aada-2224-45f8-cfdb-55a515fe4830"
      },
      "execution_count": null,
      "outputs": [
        {
          "output_type": "stream",
          "name": "stdout",
          "text": [
            "               precision    recall  f1-score   support\n",
            "\n",
            "    not toxic       0.96      0.93      0.94       464\n",
            "somehow toxic       0.71      0.68      0.69       110\n",
            "totally toxic       0.77      0.82      0.80       243\n",
            "\n",
            "     accuracy                           0.86       817\n",
            "    macro avg       0.81      0.81      0.81       817\n",
            " weighted avg       0.87      0.86      0.87       817\n",
            "\n"
          ]
        }
      ]
    },
    {
      "cell_type": "markdown",
      "source": [
        "##Naive Bayes"
      ],
      "metadata": {
        "id": "NqYxTteE352q"
      }
    },
    {
      "cell_type": "code",
      "source": [
        "plot_confusion_matrix(nb_predict, test['target'], labels)"
      ],
      "metadata": {
        "colab": {
          "base_uri": "https://localhost:8080/",
          "height": 404
        },
        "id": "HWBUydadsZDr",
        "outputId": "28d0f5f0-a451-481a-f508-19df5ec53685"
      },
      "execution_count": null,
      "outputs": [
        {
          "output_type": "display_data",
          "data": {
            "text/plain": [
              "<Figure size 432x432 with 1 Axes>"
            ],
            "image/png": "[encoded data removed]"
          },
          "metadata": {
            "needs_background": "light"
          }
        }
      ]
    },
    {
      "cell_type": "code",
      "source": [
        "print(classification_report(test['target'], nb_predict, target_names=class_names))"
      ],
      "metadata": {
        "id": "fLR5ob2k3t63",
        "colab": {
          "base_uri": "https://localhost:8080/"
        },
        "outputId": "e630232a-8ecc-4466-83b1-5b309e0a209a"
      },
      "execution_count": null,
      "outputs": [
        {
          "output_type": "stream",
          "name": "stdout",
          "text": [
            "               precision    recall  f1-score   support\n",
            "\n",
            "    not toxic       0.83      0.95      0.89       464\n",
            "somehow toxic       0.62      0.15      0.24       110\n",
            "totally toxic       0.67      0.72      0.69       243\n",
            "\n",
            "     accuracy                           0.77       817\n",
            "    macro avg       0.71      0.61      0.61       817\n",
            " weighted avg       0.76      0.77      0.74       817\n",
            "\n"
          ]
        }
      ]
    },
    {
      "cell_type": "markdown",
      "source": [
        "##Decision Tree"
      ],
      "metadata": {
        "id": "Pl6H5L1i3_Oo"
      }
    },
    {
      "cell_type": "code",
      "source": [
        "plot_confusion_matrix(dt_predict, test['target'], labels)"
      ],
      "metadata": {
        "colab": {
          "base_uri": "https://localhost:8080/",
          "height": 404
        },
        "id": "_vI-CH2tse3b",
        "outputId": "3b885d7c-9044-4d49-b37e-d294635c32bc"
      },
      "execution_count": null,
      "outputs": [
        {
          "output_type": "display_data",
          "data": {
            "text/plain": [
              "<Figure size 432x432 with 1 Axes>"
            ],
            "image/png": "[encoded data removed]"
          },
          "metadata": {
            "needs_background": "light"
          }
        }
      ]
    },
    {
      "cell_type": "code",
      "source": [
        "print(classification_report(test['target'], dt_predict, target_names=class_names))\n"
      ],
      "metadata": {
        "id": "HzSHD-2H3wk_",
        "colab": {
          "base_uri": "https://localhost:8080/"
        },
        "outputId": "3f0ed79d-84f2-43e9-88c6-96ce6bc9564c"
      },
      "execution_count": null,
      "outputs": [
        {
          "output_type": "stream",
          "name": "stdout",
          "text": [
            "               precision    recall  f1-score   support\n",
            "\n",
            "    not toxic       0.86      0.98      0.91       464\n",
            "somehow toxic       0.49      0.45      0.46       110\n",
            "totally toxic       0.74      0.56      0.64       243\n",
            "\n",
            "     accuracy                           0.78       817\n",
            "    macro avg       0.69      0.66      0.67       817\n",
            " weighted avg       0.77      0.78      0.77       817\n",
            "\n"
          ]
        }
      ]
    },
    {
      "cell_type": "markdown",
      "source": [
        "##Max Entropy"
      ],
      "metadata": {
        "id": "eVPhM8Ld4BFf"
      }
    },
    {
      "cell_type": "code",
      "source": [
        "plot_confusion_matrix(me_predict, test['target'], labels)"
      ],
      "metadata": {
        "colab": {
          "base_uri": "https://localhost:8080/",
          "height": 404
        },
        "id": "-S_Gwlw7shuc",
        "outputId": "74eab918-42b1-4879-968d-38f6668ceec8"
      },
      "execution_count": null,
      "outputs": [
        {
          "output_type": "display_data",
          "data": {
            "text/plain": [
              "<Figure size 432x432 with 1 Axes>"
            ],
            "image/png": "[encoded data removed]"
          },
          "metadata": {
            "needs_background": "light"
          }
        }
      ]
    },
    {
      "cell_type": "code",
      "source": [
        "print(classification_report(test['target'], me_predict, target_names=class_names))"
      ],
      "metadata": {
        "id": "H-wEEy4X3zzm",
        "colab": {
          "base_uri": "https://localhost:8080/"
        },
        "outputId": "0e85cf11-20bd-4688-d399-5830e6d3d768"
      },
      "execution_count": null,
      "outputs": [
        {
          "output_type": "stream",
          "name": "stdout",
          "text": [
            "               precision    recall  f1-score   support\n",
            "\n",
            "    not toxic       0.57      1.00      0.72       464\n",
            "somehow toxic       0.00      0.00      0.00       110\n",
            "totally toxic       0.00      0.00      0.00       243\n",
            "\n",
            "     accuracy                           0.57       817\n",
            "    macro avg       0.19      0.33      0.24       817\n",
            " weighted avg       0.32      0.57      0.41       817\n",
            "\n"
          ]
        },
        {
          "output_type": "stream",
          "name": "stderr",
          "text": [
            "/usr/local/lib/python3.8/dist-packages/sklearn/metrics/_classification.py:1318: UndefinedMetricWarning: Precision and F-score are ill-defined and being set to 0.0 in labels with no predicted samples. Use `zero_division` parameter to control this behavior.\n",
            "  _warn_prf(average, modifier, msg_start, len(result))\n",
            "/usr/local/lib/python3.8/dist-packages/sklearn/metrics/_classification.py:1318: UndefinedMetricWarning: Precision and F-score are ill-defined and being set to 0.0 in labels with no predicted samples. Use `zero_division` parameter to control this behavior.\n",
            "  _warn_prf(average, modifier, msg_start, len(result))\n",
            "/usr/local/lib/python3.8/dist-packages/sklearn/metrics/_classification.py:1318: UndefinedMetricWarning: Precision and F-score are ill-defined and being set to 0.0 in labels with no predicted samples. Use `zero_division` parameter to control this behavior.\n",
            "  _warn_prf(average, modifier, msg_start, len(result))\n"
          ]
        }
      ]
    }
  ]
}