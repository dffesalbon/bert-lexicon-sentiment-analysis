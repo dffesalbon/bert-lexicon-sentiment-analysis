{
  "nbformat": 4,
  "nbformat_minor": 0,
  "metadata": {
    "colab": {
      "provenance": [],
      "authorship_tag": "ABX9TyOkiUtBs2jxa7ukRnFRJt7J",
      "include_colab_link": true
    },
    "kernelspec": {
      "name": "python3",
      "display_name": "Python 3"
    },
    "language_info": {
      "name": "python"
    }
  },
  "cells": [
    {
      "cell_type": "markdown",
      "metadata": {
        "id": "view-in-github",
        "colab_type": "text"
      },
      "source": [
        "<a href=\"https://colab.research.google.com/github/dffesalbon/bert-lexicon-sentiment-analysis/blob/lexicon-based/lexicon-based.ipynb\" target=\"_parent\"><img src=\"https://colab.research.google.com/assets/colab-badge.svg\" alt=\"Open In Colab\"/></a>"
      ]
    },
    {
      "cell_type": "code",
      "execution_count": null,
      "metadata": {
        "colab": {
          "base_uri": "https://localhost:8080/"
        },
        "id": "7Z5eqEDN9UhN",
        "outputId": "d090fbb1-e8ea-481a-fc5d-23e95bb0d5f2"
      },
      "outputs": [
        {
          "output_type": "stream",
          "name": "stderr",
          "text": [
            "[nltk_data] Downloading package punkt to /root/nltk_data...\n",
            "[nltk_data]   Package punkt is already up-to-date!\n"
          ]
        }
      ],
      "source": [
        "from textblob import TextBlob\n",
        "from textblob.classifiers import NaiveBayesClassifier\n",
        "from textblob.classifiers import DecisionTreeClassifier\n",
        "from textblob.classifiers import MaxEntClassifier\n",
        "\n",
        "import re, string\n",
        "\n",
        "import pandas as pd\n",
        "import seaborn as sns\n",
        "import matplotlib.pyplot as plt\n",
        "import numpy as np\n",
        "import torch\n",
        "from tqdm import tqdm\n",
        "from collections import defaultdict\n",
        "import nltk\n",
        "nltk.download('punkt')\n",
        "device = torch.device(\"cuda\" if torch.cuda.is_available() else \"cpu\")"
      ]
    },
    {
      "cell_type": "code",
      "source": [],
      "metadata": {
        "id": "PLzAPKh8fMXm"
      },
      "execution_count": null,
      "outputs": []
    },
    {
      "cell_type": "markdown",
      "source": [],
      "metadata": {
        "id": "KeebZX6OfNTB"
      }
    },
    {
      "cell_type": "code",
      "source": [
        "train = pd.read_csv('/content/sample_data/train.csv')\n",
        "test = pd.read_csv('/content/sample_data/test.csv')\n",
        "\n",
        "#cl = NaiveBayesClassifier(train)\n",
        "class_names = ['Non-toxic', 'Toxic']"
      ],
      "metadata": {
        "id": "VZqWhUp893oV"
      },
      "execution_count": null,
      "outputs": []
    },
    {
      "cell_type": "code",
      "source": [
        "def clean_text(text):\n",
        "    text = re.sub('#', '', text) # Removing '#' hashtag\n",
        "    text = re.sub('\\w+:\\/\\/\\S+', '', text) # Removing hyperlink\n",
        "    text = re.sub('[^a-zA-Z]', ' ', text) # Remove punctuation\n",
        "    text.lower()\n",
        "    return text"
      ],
      "metadata": {
        "id": "1vfHNfhk-EAj"
      },
      "execution_count": null,
      "outputs": []
    },
    {
      "cell_type": "code",
      "source": [
        "train.loc[:,'texts'] = train['texts'].apply(lambda x : clean_text(x).strip())\n",
        "test.loc[:,'texts'] = test['texts'].apply(lambda x : clean_text(x).strip())"
      ],
      "metadata": {
        "id": "Yc6JxnsH-SdL"
      },
      "execution_count": null,
      "outputs": []
    },
    {
      "cell_type": "code",
      "source": [
        "train = train.drop(['match', 'slot'], 1)"
      ],
      "metadata": {
        "colab": {
          "base_uri": "https://localhost:8080/"
        },
        "id": "l5mmI7vN-eC7",
        "outputId": "7206e681-822e-4719-9b8b-f643f2b5d4b6"
      },
      "execution_count": null,
      "outputs": [
        {
          "output_type": "stream",
          "name": "stderr",
          "text": [
            "<ipython-input-26-6a800c7913b0>:1: FutureWarning: In a future version of pandas all arguments of DataFrame.drop except for the argument 'labels' will be keyword-only\n",
            "  train = train.drop(['match', 'slot'], 1)\n"
          ]
        }
      ]
    },
    {
      "cell_type": "code",
      "source": [
        "#train"
      ],
      "metadata": {
        "id": "cXO5i8pW-3D7"
      },
      "execution_count": null,
      "outputs": []
    },
    {
      "cell_type": "code",
      "source": [
        "#cl = NaiveBayesClassifier(train)\n",
        "train_data = []\n",
        "for index, row in train.iterrows():\n",
        "    train_data.append((row['texts'], row['target']))\n",
        "    #print(row['texts'], row['targe'])"
      ],
      "metadata": {
        "id": "9QokjEGF-oMc"
      },
      "execution_count": null,
      "outputs": []
    },
    {
      "cell_type": "code",
      "source": [
        "#print(train_data)\n",
        "nb = NaiveBayesClassifier(train_data)\n",
        "dt = DecisionTreeClassifier(train_data)\n",
        "me = MaxEntClassifier(train_data)\n"
      ],
      "metadata": {
        "id": "EkeMf6Mv_Ev8"
      },
      "execution_count": null,
      "outputs": []
    },
    {
      "cell_type": "code",
      "source": [
        "nbpred = []\n",
        "dtpred = []\n",
        "mepred = []\n",
        "for index, row in test.iterrows():\n",
        "    nbpred.append(int(nb.classify(row['texts'])))\n",
        "    dtpred.append(int(dt.classify(row['texts'])))\n",
        "    mepred.append(int(me.classify(row['texts'])))"
      ],
      "metadata": {
        "colab": {
          "base_uri": "https://localhost:8080/"
        },
        "id": "SlTzQMkv_wOr",
        "outputId": "bd619c23-6d29-48bb-bf7b-b62442533781"
      },
      "execution_count": null,
      "outputs": [
        {
          "output_type": "stream",
          "name": "stdout",
          "text": [
            "  ==> Training (100 iterations)\n",
            "\n",
            "      Iteration    Log Likelihood    Accuracy\n",
            "      ---------------------------------------\n",
            "             1          -0.69315        0.501\n"
          ]
        },
        {
          "output_type": "stream",
          "name": "stderr",
          "text": [
            "/usr/local/lib/python3.8/dist-packages/nltk/classify/maxent.py:1381: RuntimeWarning: overflow encountered in power\n",
            "  exp_nf_delta = 2 ** nf_delta\n",
            "/usr/local/lib/python3.8/dist-packages/nltk/classify/maxent.py:1383: RuntimeWarning: invalid value encountered in multiply\n",
            "  sum1 = numpy.sum(exp_nf_delta * A, axis=0)\n",
            "/usr/local/lib/python3.8/dist-packages/nltk/classify/maxent.py:1384: RuntimeWarning: invalid value encountered in multiply\n",
            "  sum2 = numpy.sum(nf_exp_nf_delta * A, axis=0)\n"
          ]
        },
        {
          "output_type": "stream",
          "name": "stdout",
          "text": [
            "         Final               nan        0.499\n"
          ]
        }
      ]
    },
    {
      "cell_type": "code",
      "source": [
        "from sklearn.metrics import accuracy_score, f1_score\n",
        "from sklearn.metrics import confusion_matrix, classification_report\n",
        "from sklearn.metrics import ConfusionMatrixDisplay, confusion_matrix"
      ],
      "metadata": {
        "id": "gCln8u1EBBnC"
      },
      "execution_count": null,
      "outputs": []
    },
    {
      "cell_type": "code",
      "source": [
        "nb_predictions = pd.Series(nbpred)\n",
        "dt_predictions = pd.Series(dtpred)\n",
        "me_predictions = pd.Series(mepred)"
      ],
      "metadata": {
        "id": "2zhRM4pIBbvO"
      },
      "execution_count": null,
      "outputs": []
    },
    {
      "cell_type": "markdown",
      "source": [
        "#NaiveBayesClassifier"
      ],
      "metadata": {
        "id": "_IsuQu0jDoAy"
      }
    },
    {
      "cell_type": "code",
      "source": [
        "print(classification_report(test['target'], nb_predictions, target_names=class_names))"
      ],
      "metadata": {
        "colab": {
          "base_uri": "https://localhost:8080/"
        },
        "id": "iMk03hpxBJ0M",
        "outputId": "5af4bcc5-f404-47ee-e868-9f187f42a0cf"
      },
      "execution_count": null,
      "outputs": [
        {
          "output_type": "stream",
          "name": "stdout",
          "text": [
            "              precision    recall  f1-score   support\n",
            "\n",
            "   Non-toxic       0.71      0.89      0.79       270\n",
            "       Toxic       0.85      0.63      0.73       267\n",
            "\n",
            "    accuracy                           0.76       537\n",
            "   macro avg       0.78      0.76      0.76       537\n",
            "weighted avg       0.78      0.76      0.76       537\n",
            "\n"
          ]
        }
      ]
    },
    {
      "cell_type": "markdown",
      "source": [
        "#DecisionTreeClassifier"
      ],
      "metadata": {
        "id": "yYqRyi7jDseW"
      }
    },
    {
      "cell_type": "code",
      "source": [
        "print(classification_report(test['target'], dt_predictions, target_names=class_names))"
      ],
      "metadata": {
        "colab": {
          "base_uri": "https://localhost:8080/"
        },
        "id": "wOJLC7zwDmQb",
        "outputId": "bf61a115-5915-4fbf-c0e6-2dd010b4b607"
      },
      "execution_count": null,
      "outputs": [
        {
          "output_type": "stream",
          "name": "stdout",
          "text": [
            "              precision    recall  f1-score   support\n",
            "\n",
            "   Non-toxic       0.75      0.87      0.80       270\n",
            "       Toxic       0.84      0.70      0.76       267\n",
            "\n",
            "    accuracy                           0.79       537\n",
            "   macro avg       0.79      0.79      0.78       537\n",
            "weighted avg       0.79      0.79      0.78       537\n",
            "\n"
          ]
        }
      ]
    },
    {
      "cell_type": "markdown",
      "source": [
        "#MaxEntClassifier"
      ],
      "metadata": {
        "id": "PvuW3Y0xDuCq"
      }
    },
    {
      "cell_type": "code",
      "source": [
        "print(classification_report(test['target'], me_predictions, target_names=class_names))"
      ],
      "metadata": {
        "colab": {
          "base_uri": "https://localhost:8080/"
        },
        "id": "IHCjcWk4Dm0S",
        "outputId": "ad935883-f44b-4210-85a8-3d896bfdae87"
      },
      "execution_count": null,
      "outputs": [
        {
          "output_type": "stream",
          "name": "stdout",
          "text": [
            "              precision    recall  f1-score   support\n",
            "\n",
            "   Non-toxic       0.50      1.00      0.67       270\n",
            "       Toxic       0.00      0.00      0.00       267\n",
            "\n",
            "    accuracy                           0.50       537\n",
            "   macro avg       0.25      0.50      0.33       537\n",
            "weighted avg       0.25      0.50      0.34       537\n",
            "\n"
          ]
        },
        {
          "output_type": "stream",
          "name": "stderr",
          "text": [
            "/usr/local/lib/python3.8/dist-packages/sklearn/metrics/_classification.py:1318: UndefinedMetricWarning: Precision and F-score are ill-defined and being set to 0.0 in labels with no predicted samples. Use `zero_division` parameter to control this behavior.\n",
            "  _warn_prf(average, modifier, msg_start, len(result))\n",
            "/usr/local/lib/python3.8/dist-packages/sklearn/metrics/_classification.py:1318: UndefinedMetricWarning: Precision and F-score are ill-defined and being set to 0.0 in labels with no predicted samples. Use `zero_division` parameter to control this behavior.\n",
            "  _warn_prf(average, modifier, msg_start, len(result))\n",
            "/usr/local/lib/python3.8/dist-packages/sklearn/metrics/_classification.py:1318: UndefinedMetricWarning: Precision and F-score are ill-defined and being set to 0.0 in labels with no predicted samples. Use `zero_division` parameter to control this behavior.\n",
            "  _warn_prf(average, modifier, msg_start, len(result))\n"
          ]
        }
      ]
    }
  ]
}